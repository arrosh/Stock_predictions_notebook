{
 "cells": [
  {
   "cell_type": "code",
   "execution_count": 2,
   "metadata": {},
   "outputs": [],
   "source": [
    "import pandas as pd\n",
    "import datetime\n",
    "from pandas import Series, DataFrame"
   ]
  },
  {
   "cell_type": "code",
   "execution_count": 5,
   "metadata": {},
   "outputs": [
    {
     "data": {
      "text/html": [
       "<div>\n",
       "<style scoped>\n",
       "    .dataframe tbody tr th:only-of-type {\n",
       "        vertical-align: middle;\n",
       "    }\n",
       "\n",
       "    .dataframe tbody tr th {\n",
       "        vertical-align: top;\n",
       "    }\n",
       "\n",
       "    .dataframe thead th {\n",
       "        text-align: right;\n",
       "    }\n",
       "</style>\n",
       "<table border=\"1\" class=\"dataframe\">\n",
       "  <thead>\n",
       "    <tr style=\"text-align: right;\">\n",
       "      <th></th>\n",
       "      <th>Date</th>\n",
       "      <th>Open</th>\n",
       "      <th>High</th>\n",
       "      <th>Low</th>\n",
       "      <th>Close</th>\n",
       "      <th>Adj Close</th>\n",
       "      <th>Volume</th>\n",
       "    </tr>\n",
       "  </thead>\n",
       "  <tbody>\n",
       "    <tr>\n",
       "      <th>174</th>\n",
       "      <td>2019-05-30</td>\n",
       "      <td>177.949997</td>\n",
       "      <td>179.229996</td>\n",
       "      <td>176.669998</td>\n",
       "      <td>178.300003</td>\n",
       "      <td>177.625122</td>\n",
       "      <td>21218400</td>\n",
       "    </tr>\n",
       "    <tr>\n",
       "      <th>249</th>\n",
       "      <td>2019-09-16</td>\n",
       "      <td>217.729996</td>\n",
       "      <td>220.130005</td>\n",
       "      <td>217.559998</td>\n",
       "      <td>219.899994</td>\n",
       "      <td>219.899994</td>\n",
       "      <td>21158100</td>\n",
       "    </tr>\n",
       "    <tr>\n",
       "      <th>29</th>\n",
       "      <td>2018-10-29</td>\n",
       "      <td>219.190002</td>\n",
       "      <td>219.690002</td>\n",
       "      <td>206.089996</td>\n",
       "      <td>212.240005</td>\n",
       "      <td>208.996857</td>\n",
       "      <td>45935500</td>\n",
       "    </tr>\n",
       "    <tr>\n",
       "      <th>9</th>\n",
       "      <td>2018-10-01</td>\n",
       "      <td>227.949997</td>\n",
       "      <td>229.419998</td>\n",
       "      <td>226.350006</td>\n",
       "      <td>227.259995</td>\n",
       "      <td>223.787323</td>\n",
       "      <td>23600800</td>\n",
       "    </tr>\n",
       "    <tr>\n",
       "      <th>164</th>\n",
       "      <td>2019-05-15</td>\n",
       "      <td>186.270004</td>\n",
       "      <td>191.750000</td>\n",
       "      <td>186.020004</td>\n",
       "      <td>190.919998</td>\n",
       "      <td>190.197357</td>\n",
       "      <td>26544700</td>\n",
       "    </tr>\n",
       "  </tbody>\n",
       "</table>\n",
       "</div>"
      ],
      "text/plain": [
       "           Date        Open        High         Low       Close   Adj Close  \\\n",
       "174  2019-05-30  177.949997  179.229996  176.669998  178.300003  177.625122   \n",
       "249  2019-09-16  217.729996  220.130005  217.559998  219.899994  219.899994   \n",
       "29   2018-10-29  219.190002  219.690002  206.089996  212.240005  208.996857   \n",
       "9    2018-10-01  227.949997  229.419998  226.350006  227.259995  223.787323   \n",
       "164  2019-05-15  186.270004  191.750000  186.020004  190.919998  190.197357   \n",
       "\n",
       "       Volume  \n",
       "174  21218400  \n",
       "249  21158100  \n",
       "29   45935500  \n",
       "9    23600800  \n",
       "164  26544700  "
      ]
     },
     "execution_count": 5,
     "metadata": {},
     "output_type": "execute_result"
    }
   ],
   "source": [
    "data = pd.read_csv('~/Downloads/AAPL.csv')\n",
    "data.sample(5)"
   ]
  },
  {
   "cell_type": "code",
   "execution_count": 6,
   "metadata": {},
   "outputs": [
    {
     "data": {
      "text/html": [
       "<div>\n",
       "<style scoped>\n",
       "    .dataframe tbody tr th:only-of-type {\n",
       "        vertical-align: middle;\n",
       "    }\n",
       "\n",
       "    .dataframe tbody tr th {\n",
       "        vertical-align: top;\n",
       "    }\n",
       "\n",
       "    .dataframe thead th {\n",
       "        text-align: right;\n",
       "    }\n",
       "</style>\n",
       "<table border=\"1\" class=\"dataframe\">\n",
       "  <thead>\n",
       "    <tr style=\"text-align: right;\">\n",
       "      <th></th>\n",
       "      <th>Date</th>\n",
       "      <th>Open</th>\n",
       "      <th>High</th>\n",
       "      <th>Low</th>\n",
       "      <th>Close</th>\n",
       "      <th>Adj Close</th>\n",
       "      <th>Volume</th>\n",
       "    </tr>\n",
       "  </thead>\n",
       "  <tbody>\n",
       "    <tr>\n",
       "      <th>247</th>\n",
       "      <td>2019-09-12</td>\n",
       "      <td>224.800003</td>\n",
       "      <td>226.419998</td>\n",
       "      <td>222.860001</td>\n",
       "      <td>223.089996</td>\n",
       "      <td>223.089996</td>\n",
       "      <td>32226700</td>\n",
       "    </tr>\n",
       "    <tr>\n",
       "      <th>248</th>\n",
       "      <td>2019-09-13</td>\n",
       "      <td>220.000000</td>\n",
       "      <td>220.789993</td>\n",
       "      <td>217.020004</td>\n",
       "      <td>218.750000</td>\n",
       "      <td>218.750000</td>\n",
       "      <td>39763300</td>\n",
       "    </tr>\n",
       "    <tr>\n",
       "      <th>249</th>\n",
       "      <td>2019-09-16</td>\n",
       "      <td>217.729996</td>\n",
       "      <td>220.130005</td>\n",
       "      <td>217.559998</td>\n",
       "      <td>219.899994</td>\n",
       "      <td>219.899994</td>\n",
       "      <td>21158100</td>\n",
       "    </tr>\n",
       "    <tr>\n",
       "      <th>250</th>\n",
       "      <td>2019-09-17</td>\n",
       "      <td>219.960007</td>\n",
       "      <td>220.820007</td>\n",
       "      <td>219.119995</td>\n",
       "      <td>220.699997</td>\n",
       "      <td>220.699997</td>\n",
       "      <td>18318700</td>\n",
       "    </tr>\n",
       "    <tr>\n",
       "      <th>251</th>\n",
       "      <td>2019-09-18</td>\n",
       "      <td>221.059998</td>\n",
       "      <td>222.410004</td>\n",
       "      <td>220.679993</td>\n",
       "      <td>222.360001</td>\n",
       "      <td>222.360001</td>\n",
       "      <td>5459037</td>\n",
       "    </tr>\n",
       "  </tbody>\n",
       "</table>\n",
       "</div>"
      ],
      "text/plain": [
       "           Date        Open        High         Low       Close   Adj Close  \\\n",
       "247  2019-09-12  224.800003  226.419998  222.860001  223.089996  223.089996   \n",
       "248  2019-09-13  220.000000  220.789993  217.020004  218.750000  218.750000   \n",
       "249  2019-09-16  217.729996  220.130005  217.559998  219.899994  219.899994   \n",
       "250  2019-09-17  219.960007  220.820007  219.119995  220.699997  220.699997   \n",
       "251  2019-09-18  221.059998  222.410004  220.679993  222.360001  222.360001   \n",
       "\n",
       "       Volume  \n",
       "247  32226700  \n",
       "248  39763300  \n",
       "249  21158100  \n",
       "250  18318700  \n",
       "251   5459037  "
      ]
     },
     "execution_count": 6,
     "metadata": {},
     "output_type": "execute_result"
    }
   ],
   "source": [
    "data.tail()"
   ]
  },
  {
   "cell_type": "code",
   "execution_count": 7,
   "metadata": {},
   "outputs": [
    {
     "data": {
      "text/html": [
       "<div>\n",
       "<style scoped>\n",
       "    .dataframe tbody tr th:only-of-type {\n",
       "        vertical-align: middle;\n",
       "    }\n",
       "\n",
       "    .dataframe tbody tr th {\n",
       "        vertical-align: top;\n",
       "    }\n",
       "\n",
       "    .dataframe thead th {\n",
       "        text-align: right;\n",
       "    }\n",
       "</style>\n",
       "<table border=\"1\" class=\"dataframe\">\n",
       "  <thead>\n",
       "    <tr style=\"text-align: right;\">\n",
       "      <th></th>\n",
       "      <th>Date</th>\n",
       "      <th>Open</th>\n",
       "      <th>High</th>\n",
       "      <th>Low</th>\n",
       "      <th>Close</th>\n",
       "      <th>Adj Close</th>\n",
       "      <th>Volume</th>\n",
       "    </tr>\n",
       "  </thead>\n",
       "  <tbody>\n",
       "    <tr>\n",
       "      <th>0</th>\n",
       "      <td>2018-09-18</td>\n",
       "      <td>217.789993</td>\n",
       "      <td>221.850006</td>\n",
       "      <td>217.119995</td>\n",
       "      <td>218.240005</td>\n",
       "      <td>214.905167</td>\n",
       "      <td>31571700</td>\n",
       "    </tr>\n",
       "    <tr>\n",
       "      <th>1</th>\n",
       "      <td>2018-09-19</td>\n",
       "      <td>218.500000</td>\n",
       "      <td>219.619995</td>\n",
       "      <td>215.300003</td>\n",
       "      <td>218.369995</td>\n",
       "      <td>215.033142</td>\n",
       "      <td>27123800</td>\n",
       "    </tr>\n",
       "    <tr>\n",
       "      <th>2</th>\n",
       "      <td>2018-09-20</td>\n",
       "      <td>220.240005</td>\n",
       "      <td>222.279999</td>\n",
       "      <td>219.149994</td>\n",
       "      <td>220.029999</td>\n",
       "      <td>216.667816</td>\n",
       "      <td>26608800</td>\n",
       "    </tr>\n",
       "    <tr>\n",
       "      <th>3</th>\n",
       "      <td>2018-09-21</td>\n",
       "      <td>220.779999</td>\n",
       "      <td>221.360001</td>\n",
       "      <td>217.289993</td>\n",
       "      <td>217.660004</td>\n",
       "      <td>214.334030</td>\n",
       "      <td>96246700</td>\n",
       "    </tr>\n",
       "    <tr>\n",
       "      <th>4</th>\n",
       "      <td>2018-09-24</td>\n",
       "      <td>216.820007</td>\n",
       "      <td>221.259995</td>\n",
       "      <td>216.630005</td>\n",
       "      <td>220.789993</td>\n",
       "      <td>217.416183</td>\n",
       "      <td>27693400</td>\n",
       "    </tr>\n",
       "  </tbody>\n",
       "</table>\n",
       "</div>"
      ],
      "text/plain": [
       "         Date        Open        High         Low       Close   Adj Close  \\\n",
       "0  2018-09-18  217.789993  221.850006  217.119995  218.240005  214.905167   \n",
       "1  2018-09-19  218.500000  219.619995  215.300003  218.369995  215.033142   \n",
       "2  2018-09-20  220.240005  222.279999  219.149994  220.029999  216.667816   \n",
       "3  2018-09-21  220.779999  221.360001  217.289993  217.660004  214.334030   \n",
       "4  2018-09-24  216.820007  221.259995  216.630005  220.789993  217.416183   \n",
       "\n",
       "     Volume  \n",
       "0  31571700  \n",
       "1  27123800  \n",
       "2  26608800  \n",
       "3  96246700  \n",
       "4  27693400  "
      ]
     },
     "execution_count": 7,
     "metadata": {},
     "output_type": "execute_result"
    }
   ],
   "source": [
    "data.head()"
   ]
  },
  {
   "cell_type": "code",
   "execution_count": 9,
   "metadata": {},
   "outputs": [
    {
     "name": "stdout",
     "output_type": "stream",
     "text": [
      "0             NaN\n",
      "1             NaN\n",
      "2             NaN\n",
      "3             NaN\n",
      "4             NaN\n",
      "5             NaN\n",
      "6             NaN\n",
      "7             NaN\n",
      "8             NaN\n",
      "9             NaN\n",
      "10            NaN\n",
      "11            NaN\n",
      "12            NaN\n",
      "13            NaN\n",
      "14            NaN\n",
      "15            NaN\n",
      "16            NaN\n",
      "17            NaN\n",
      "18            NaN\n",
      "19            NaN\n",
      "20            NaN\n",
      "21            NaN\n",
      "22            NaN\n",
      "23            NaN\n",
      "24            NaN\n",
      "25            NaN\n",
      "26            NaN\n",
      "27            NaN\n",
      "28            NaN\n",
      "29            NaN\n",
      "          ...    \n",
      "222    195.829867\n",
      "223    195.990569\n",
      "224    196.149358\n",
      "225    196.286871\n",
      "226    196.440511\n",
      "227    196.572044\n",
      "228    196.716401\n",
      "229    196.927710\n",
      "230    197.160846\n",
      "231    197.391602\n",
      "232    197.632951\n",
      "233    197.859698\n",
      "234    197.960657\n",
      "235    198.086917\n",
      "236    198.186503\n",
      "237    198.286788\n",
      "238    198.391109\n",
      "239    198.498685\n",
      "240    198.564745\n",
      "241    198.682279\n",
      "242    198.841507\n",
      "243    198.996962\n",
      "244    199.161318\n",
      "245    199.312470\n",
      "246    199.525277\n",
      "247    199.726435\n",
      "248    199.854917\n",
      "249    199.998075\n",
      "250    200.167890\n",
      "251    200.364031\n",
      "Name: Adj Close, Length: 252, dtype: float64\n"
     ]
    }
   ],
   "source": [
    "close_px = data['Adj Close']\n",
    "mavg = close_px.rolling(window=100).mean()\n",
    "print(mavg)"
   ]
  },
  {
   "cell_type": "code",
   "execution_count": 10,
   "metadata": {},
   "outputs": [
    {
     "data": {
      "text/plain": [
       "<matplotlib.legend.Legend at 0x11a86dfd0>"
      ]
     },
     "execution_count": 10,
     "metadata": {},
     "output_type": "execute_result"
    },
    {
     "data": {
      "image/png": "[encoded data removed]",
      "text/plain": [
       "<Figure size 576x504 with 1 Axes>"
      ]
     },
     "metadata": {},
     "output_type": "display_data"
    }
   ],
   "source": [
    "%matplotlib inline\n",
    "import matplotlib.pyplot as plt\n",
    "from matplotlib import style\n",
    "\n",
    "# Adjusting the size of matplotlib\n",
    "import matplotlib as mpl\n",
    "mpl.rc('figure', figsize=(8, 7))\n",
    "mpl.__version__\n",
    "\n",
    "# Adjusting the style of matplotlib\n",
    "style.use('ggplot')\n",
    "\n",
    "close_px.plot(label='AAPL')\n",
    "mavg.plot(label='mavg')\n",
    "plt.legend()"
   ]
  },
  {
   "cell_type": "code",
   "execution_count": 11,
   "metadata": {},
   "outputs": [
    {
     "data": {
      "text/plain": [
       "<matplotlib.axes._subplots.AxesSubplot at 0x1097832e8>"
      ]
     },
     "execution_count": 11,
     "metadata": {},
     "output_type": "execute_result"
    },
    {
     "data": {
      "image/png": "[encoded data removed]",
      "text/plain": [
       "<Figure size 432x288 with 1 Axes>"
      ]
     },
     "metadata": {
      "needs_background": "light"
     },
     "output_type": "display_data"
    }
   ],
   "source": [
    "rets = close_px / close_px.shift(1) - 1\n",
    "rets.plot(label='return')"
   ]
  },
  {
   "cell_type": "code",
   "execution_count": 18,
   "metadata": {},
   "outputs": [],
   "source": [
    "data_reg = data.loc[:,[\"Adj Close\", \"Volume\"]]\n",
    "data_reg[\"HL_PCT\"] = (data[\"High\"] - data[\"Low\"]) / data[\"Close\"] * 100.0\n",
    "data_reg[\"PCT_change\"] = (data[\"Close\"] - data[\"Open\"]) / data[\"Open\"] * 100.0"
   ]
  },
  {
   "cell_type": "code",
   "execution_count": 23,
   "metadata": {},
   "outputs": [],
   "source": [
    "# Drop missing value\n",
    "data_reg.fillna(value=-99999, inplace=True)\n",
    "# We want to separate 1 percent of the data to forecast\n",
    "import math\n",
    "import numpy as np\n",
    "from sklearn import preprocessing\n",
    "forecast_out = int(math.ceil(0.01 * len(data_reg)))\n",
    "# Separating the label here, we want to predict the AdjClose\n",
    "forecast_col = \"Adj Close\"\n",
    "data_reg[\"label\"] = data_reg[forecast_col].shift(-forecast_out)\n",
    "X = np.array(data_reg.drop(['label'], 1))\n",
    "# Scale the X so that everyone can have the same distribution for linear regression\n",
    "X = preprocessing.scale(X)\n",
    "# Finally We want to find Data Series of late X and early X (train) for model generation and evaluation\n",
    "X_lately = X[-forecast_out:]\n",
    "X = X[:-forecast_out]\n",
    "# Separate label and identify it as y\n",
    "y = np.array(data_reg['label'])\n",
    "y = y[:-forecast_out]"
   ]
  },
  {
   "cell_type": "code",
   "execution_count": 28,
   "metadata": {},
   "outputs": [],
   "source": [
    "from sklearn.linear_model import LinearRegression\n",
    "from sklearn.neighbors import KNeighborsRegressor\n",
    "\n",
    "from sklearn.linear_model import Ridge\n",
    "from sklearn.preprocessing import PolynomialFeatures\n",
    "from sklearn.pipeline import make_pipeline"
   ]
  },
  {
   "cell_type": "code",
   "execution_count": 30,
   "metadata": {},
   "outputs": [],
   "source": [
    "from sklearn.model_selection import train_test_split \n",
    "X_train, X_test, y_train, y_test = train_test_split(X, y, test_size=0.2, random_state=0)"
   ]
  },
  {
   "cell_type": "code",
   "execution_count": 31,
   "metadata": {},
   "outputs": [
    {
     "data": {
      "text/plain": [
       "Pipeline(memory=None,\n",
       "     steps=[('polynomialfeatures', PolynomialFeatures(degree=3, include_bias=True, interaction_only=False)), ('ridge', Ridge(alpha=1.0, copy_X=True, fit_intercept=True, max_iter=None,\n",
       "   normalize=False, random_state=None, solver='auto', tol=0.001))])"
      ]
     },
     "execution_count": 31,
     "metadata": {},
     "output_type": "execute_result"
    }
   ],
   "source": [
    "# Linear regression\n",
    "clfreg = LinearRegression(n_jobs=-1)\n",
    "clfreg.fit(X_train, y_train)\n",
    "# Quadratic Regression 2\n",
    "clfpoly2 = make_pipeline(PolynomialFeatures(2), Ridge())\n",
    "clfpoly2.fit(X_train, y_train)\n",
    "\n",
    "# Quadratic Regression 3\n",
    "clfpoly3 = make_pipeline(PolynomialFeatures(3), Ridge())\n",
    "clfpoly3.fit(X_train, y_train)"
   ]
  },
  {
   "cell_type": "code",
   "execution_count": 32,
   "metadata": {},
   "outputs": [
    {
     "data": {
      "text/plain": [
       "KNeighborsRegressor(algorithm='auto', leaf_size=30, metric='minkowski',\n",
       "          metric_params=None, n_jobs=None, n_neighbors=2, p=2,\n",
       "          weights='uniform')"
      ]
     },
     "execution_count": 32,
     "metadata": {},
     "output_type": "execute_result"
    }
   ],
   "source": [
    "# KNN Regression\n",
    "clfknn = KNeighborsRegressor(n_neighbors=2)\n",
    "clfknn.fit(X_train, y_train)"
   ]
  },
  {
   "cell_type": "code",
   "execution_count": 38,
   "metadata": {},
   "outputs": [],
   "source": [
    "confidencereg = clfreg.score(X_test, y_test)\n",
    "confidencepoly2 = clfpoly2.score(X_test,y_test)\n",
    "confidencepoly3 = clfpoly3.score(X_test,y_test)\n",
    "confidenceknn = clfknn.score(X_test, y_test)"
   ]
  },
  {
   "cell_type": "code",
   "execution_count": 39,
   "metadata": {},
   "outputs": [
    {
     "name": "stdout",
     "output_type": "stream",
     "text": [
      "The linear regression confidence is 0.894472085714572\n"
     ]
    }
   ],
   "source": [
    "print(\"The linear regression confidence is\", confidencereg)"
   ]
  },
  {
   "cell_type": "code",
   "execution_count": 40,
   "metadata": {},
   "outputs": [
    {
     "name": "stdout",
     "output_type": "stream",
     "text": [
      "The quadratic regression 2 confidence is 0.8953649068614554\n",
      "The quadratic regression 3 confidence is 0.8289395122411787\n",
      "The KNN regression 2 confidence is 0.7949464146947978\n"
     ]
    }
   ],
   "source": [
    "print(\"The quadratic regression 2 confidence is\", confidencepoly2)\n",
    "print(\"The quadratic regression 3 confidence is\", confidencepoly3)\n",
    "print(\"The KNN regression 2 confidence is\", confidenceknn)"
   ]
  },
  {
   "cell_type": "code",
   "execution_count": 43,
   "metadata": {},
   "outputs": [],
   "source": [
    "forecast_set = clfreg.predict(X_lately)\n",
    "data_reg['Forecast'] = np.nan"
   ]
  },
  {
   "cell_type": "code",
   "execution_count": 46,
   "metadata": {},
   "outputs": [
    {
     "name": "stdout",
     "output_type": "stream",
     "text": [
      "[218.94014225 220.34350245 222.9024023 ]\n"
     ]
    }
   ],
   "source": [
    "print(forecast_set)"
   ]
  },
  {
   "cell_type": "code",
   "execution_count": 66,
   "metadata": {},
   "outputs": [
    {
     "data": {
      "image/png": "[encoded data removed]",
      "text/plain": [
       "<Figure size 432x288 with 1 Axes>"
      ]
     },
     "metadata": {
      "needs_background": "light"
     },
     "output_type": "display_data"
    }
   ],
   "source": [
    "last_date = data_reg.iloc[-1].name\n",
    "last_unix = last_date\n",
    "next_unix = data_reg.iloc[-1].name + datetime.timedelta(days=1)\n",
    "\n",
    "for i in forecast_set:\n",
    "    next_date = next_unix\n",
    "    next_unix += datetime.timedelta(days=1)\n",
    "    data_reg.loc[next_date] = [np.nan for _ in range(len(data_reg.columns)-1)]+[i]\n",
    "data_reg['Adj Close'].tail(500).plot()\n",
    "data_reg['Forecast'].tail(500).plot()\n",
    "plt.legend(loc=4)\n",
    "plt.xlabel('Date')\n",
    "plt.ylabel('Price')\n",
    "plt.show()"
   ]
  },
  {
   "cell_type": "code",
   "execution_count": null,
   "metadata": {},
   "outputs": [],
   "source": []
  }
 ],
 "metadata": {
  "kernelspec": {
   "display_name": "Python 3",
   "language": "python",
   "name": "python3"
  },
  "language_info": {
   "codemirror_mode": {
    "name": "ipython",
    "version": 3
   },
   "file_extension": ".py",
   "mimetype": "text/x-python",
   "name": "python",
   "nbconvert_exporter": "python",
   "pygments_lexer": "ipython3",
   "version": "3.7.1"
  }
 },
 "nbformat": 4,
 "nbformat_minor": 2
}
